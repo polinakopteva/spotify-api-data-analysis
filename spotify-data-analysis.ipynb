{
 "cells": [
  {
   "cell_type": "markdown",
   "id": "8d2f22d2",
   "metadata": {},
   "source": [
    "# Data analysis of my Spotify"
   ]
  },
  {
   "cell_type": "markdown",
   "id": "24db7d42",
   "metadata": {},
   "source": [
    "## Description of the project\n",
    "This project is dedicated to one of my favorite ways of spending free time - listening to music. Due to the new account there is small-scale of the data, but i regard this analysis as representive of my music taste in general.\n",
    "\n",
    "The aim of the project obtain statistical and graphical description of my music preferences.\n",
    "\n",
    "To reach the goal I will:\n",
    "1. retrieve data from Spotify via Spotify Web API and Spotipy library\n",
    "2. conduct exploratory data analysis via Pandas library\n",
    "3. make Tableau Public data viz with pithy conclusions"
   ]
  },
  {
   "cell_type": "markdown",
   "id": "691cdb91",
   "metadata": {},
   "source": [
    "## Retrieving data"
   ]
  },
  {
   "cell_type": "markdown",
   "id": "18141e45",
   "metadata": {},
   "source": [
    "[Spotipy](https://spotipy.readthedocs.io/en/2.22.1/) is one of the Web API Wrappers to use in project on Python, it uses Spotify Web API and through Authorization Code flow you get the needed data. "
   ]
  },
  {
   "cell_type": "code",
   "execution_count": 1,
   "id": "a2dfc61e",
   "metadata": {},
   "outputs": [
    {
     "name": "stdout",
     "output_type": "stream",
     "text": [
      "Requirement already satisfied: spotipy in c:\\users\\pkopt\\anaconda3\\lib\\site-packages (2.22.1)\n",
      "Requirement already satisfied: urllib3>=1.26.0 in c:\\users\\pkopt\\anaconda3\\lib\\site-packages (from spotipy) (1.26.7)\n",
      "Requirement already satisfied: six>=1.15.0 in c:\\users\\pkopt\\anaconda3\\lib\\site-packages (from spotipy) (1.16.0)\n",
      "Requirement already satisfied: requests>=2.25.0 in c:\\users\\pkopt\\anaconda3\\lib\\site-packages (from spotipy) (2.26.0)\n",
      "Requirement already satisfied: redis>=3.5.3 in c:\\users\\pkopt\\anaconda3\\lib\\site-packages (from spotipy) (4.4.2)\n",
      "Requirement already satisfied: async-timeout>=4.0.2 in c:\\users\\pkopt\\anaconda3\\lib\\site-packages (from redis>=3.5.3->spotipy) (4.0.2)\n",
      "Requirement already satisfied: idna<4,>=2.5 in c:\\users\\pkopt\\anaconda3\\lib\\site-packages (from requests>=2.25.0->spotipy) (3.2)\n",
      "Requirement already satisfied: charset-normalizer~=2.0.0 in c:\\users\\pkopt\\anaconda3\\lib\\site-packages (from requests>=2.25.0->spotipy) (2.0.4)\n",
      "Requirement already satisfied: certifi>=2017.4.17 in c:\\users\\pkopt\\anaconda3\\lib\\site-packages (from requests>=2.25.0->spotipy) (2021.10.8)\n",
      "Note: you may need to restart the kernel to use updated packages.\n"
     ]
    }
   ],
   "source": [
    "pip install spotipy --upgrade"
   ]
  },
  {
   "cell_type": "code",
   "execution_count": 2,
   "id": "4ce60141",
   "metadata": {},
   "outputs": [],
   "source": [
    "import spotipy\n",
    "from spotipy.oauth2 import SpotifyOAuth\n",
    "import pandas as pd\n",
    "import math"
   ]
  },
  {
   "cell_type": "markdown",
   "id": "b41042e2",
   "metadata": {},
   "source": [
    "You need to create and register a new application to generate valid credentials on the Spotify for developers website in My dashboard section. There you get the `SPOTIPY_CLIENT_ID` and `SPOTIPY_CLIENT_SECRET`. The Authorization Code Flow needs you to add a `REDIRECT_URI` to your application at My Dashboard (navigate to your application and then Edit Settings).\n",
    "\n",
    "After that through SpotifyOAuth you will accept conditions and will receive link, paste it, thereafter you ready to start retrieve data."
   ]
  },
  {
   "cell_type": "code",
   "execution_count": 3,
   "id": "3cfa0d9e",
   "metadata": {},
   "outputs": [],
   "source": [
    "sp = spotipy.Spotify(auth_manager=SpotifyOAuth(client_id=\"\",\n",
    "                                               client_secret=\"\",\n",
    "                                               redirect_uri=\"http://www.google.com/\",\n",
    "                                               scope=\"user-library-read\"))"
   ]
  },
  {
   "cell_type": "markdown",
   "id": "a82d965f",
   "metadata": {},
   "source": [
    "To today (27/01/2023) I have 426 favorite tracks on the Spotify. Because of the limits in methods i use for loops with number of iterations equals to number of tracks divide by the limit (20 tracks)."
   ]
  },
  {
   "cell_type": "code",
   "execution_count": 4,
   "id": "8d75329d",
   "metadata": {},
   "outputs": [],
   "source": [
    "number_of_favorite_tracks = 426\n",
    "num_iterations = math.ceil(number_of_favorite_tracks / 20)"
   ]
  },
  {
   "cell_type": "markdown",
   "id": "42d192dd",
   "metadata": {},
   "source": [
    "Spotify Web API provides a versatile information about user's music and podcasts and about all tracks and albums on Spotify.\n",
    "\n",
    "I selected sought-for data and made DataFrame via pandas library."
   ]
  },
  {
   "cell_type": "code",
   "execution_count": 5,
   "id": "3de2dd5c",
   "metadata": {},
   "outputs": [],
   "source": [
    "tracks_ids = []\n",
    "tracks_ids_artist_name = dict()\n",
    "offset = 0\n",
    "\n",
    "for i in range(0, num_iterations):\n",
    "    results = sp.current_user_saved_tracks(offset=offset)\n",
    "    for item in results['items']:\n",
    "        tracks_ids.append(item['track']['id'])\n",
    "        tracks_ids_artist_name[item['track']['id']] = [item['track']['artists'][0]['name'], \n",
    "                                                       item['track']['name'], \n",
    "                                                       item['track']['album']['name'], \n",
    "                                                       item['track']['album']['release_date'], \n",
    "                                                       item['added_at'], \n",
    "                                                       item['track']['popularity']]\n",
    "    offset += 20\n",
    "    "
   ]
  },
  {
   "cell_type": "code",
   "execution_count": 6,
   "id": "6f651086",
   "metadata": {},
   "outputs": [],
   "source": [
    "num_iterations_tracks = math.ceil(len(tracks_ids) / 100)\n",
    "start = 0\n",
    "end = 100\n",
    "tracks_features = []\n",
    "for i in range(0, num_iterations_tracks):\n",
    "    preliminary_results = sp.audio_features(tracks=tracks_ids[start:end])\n",
    "    tracks_features.extend(preliminary_results)\n",
    "    start = end\n",
    "    end += 100"
   ]
  },
  {
   "cell_type": "code",
   "execution_count": 7,
   "id": "b71a8d01",
   "metadata": {},
   "outputs": [],
   "source": [
    "df = pd.DataFrame.from_dict(tracks_features)"
   ]
  },
  {
   "cell_type": "code",
   "execution_count": 8,
   "id": "89becaa5",
   "metadata": {},
   "outputs": [],
   "source": [
    "df_names = pd.DataFrame.from_dict(tracks_ids_artist_name, orient='index').reset_index()\n",
    "df_names.columns = ['id', 'artist_name', 'song_name', 'album_name', 'release_date', 'add_date', 'popularity']\n",
    "df = df.merge(df_names, on='id')"
   ]
  },
  {
   "cell_type": "code",
   "execution_count": 9,
   "id": "03527a7d",
   "metadata": {},
   "outputs": [],
   "source": [
    "df = df.drop(columns=['analysis_url', 'track_href', 'type'])"
   ]
  },
  {
   "cell_type": "markdown",
   "id": "ccdd220d",
   "metadata": {},
   "source": [
    "The same songs from the same artist but from different albums/EPs were removed"
   ]
  },
  {
   "cell_type": "code",
   "execution_count": 10,
   "id": "3ebebd3d",
   "metadata": {},
   "outputs": [],
   "source": [
    "df = df.drop_duplicates(subset=['artist_name', 'song_name'])"
   ]
  },
  {
   "cell_type": "markdown",
   "id": "bfcf6806",
   "metadata": {},
   "source": [
    "After removing some unnecessary for the further analysis columns, info about the dataframe was presented."
   ]
  },
  {
   "cell_type": "code",
   "execution_count": 11,
   "id": "d2e7aca9",
   "metadata": {},
   "outputs": [
    {
     "name": "stdout",
     "output_type": "stream",
     "text": [
      "<class 'pandas.core.frame.DataFrame'>\n",
      "Int64Index: 415 entries, 0 to 425\n",
      "Data columns (total 21 columns):\n",
      " #   Column            Non-Null Count  Dtype  \n",
      "---  ------            --------------  -----  \n",
      " 0   danceability      415 non-null    float64\n",
      " 1   energy            415 non-null    float64\n",
      " 2   key               415 non-null    int64  \n",
      " 3   loudness          415 non-null    float64\n",
      " 4   mode              415 non-null    int64  \n",
      " 5   speechiness       415 non-null    float64\n",
      " 6   acousticness      415 non-null    float64\n",
      " 7   instrumentalness  415 non-null    float64\n",
      " 8   liveness          415 non-null    float64\n",
      " 9   valence           415 non-null    float64\n",
      " 10  tempo             415 non-null    float64\n",
      " 11  id                415 non-null    object \n",
      " 12  uri               415 non-null    object \n",
      " 13  duration_ms       415 non-null    int64  \n",
      " 14  time_signature    415 non-null    int64  \n",
      " 15  artist_name       415 non-null    object \n",
      " 16  song_name         415 non-null    object \n",
      " 17  album_name        415 non-null    object \n",
      " 18  release_date      415 non-null    object \n",
      " 19  add_date          415 non-null    object \n",
      " 20  popularity        415 non-null    int64  \n",
      "dtypes: float64(9), int64(5), object(7)\n",
      "memory usage: 71.3+ KB\n"
     ]
    }
   ],
   "source": [
    "df.info()"
   ]
  },
  {
   "cell_type": "markdown",
   "id": "b5584fd3",
   "metadata": {},
   "source": [
    "* `danceability` - Danceability describes how suitable a track is for dancing based on a combination of musical elements including tempo, rhythm stability, beat strength, and overall regularity. A value of 0.0 is least danceable and 1.0 is most danceable.\n",
    "\n",
    "\n",
    "* `energy` - Energy is a measure from 0.0 to 1.0 and represents a perceptual measure of intensity and activity. Typically, energetic tracks feel fast, loud, and noisy. For example, death metal has high energy, while a Bach prelude scores low on the scale. Perceptual features contributing to this attribute include dynamic range, perceived loudness, timbre, onset rate, and general entropy.\n",
    "\n",
    "\n",
    "* `key` - The key the track is in. Integers map to pitches using standard Pitch Class notation. E.g. 0 = C, 1 = C♯/D♭, 2 = D, and so on. If no key was detected, the value is -1.\n",
    "\n",
    "\n",
    "* `loudness` - The overall loudness of a track in decibels (dB). Loudness values are averaged across the entire track and are useful for comparing relative loudness of tracks. Loudness is the quality of a sound that is the primary psychological correlate of physical strength (amplitude). Values typically range between -60 and 0 db.\n",
    "\n",
    "\n",
    "* `mode` - Mode indicates the modality (major or minor) of a track, the type of scale from which its melodic content is derived. Major is represented by 1 and minor is 0.\n",
    "\n",
    "\n",
    "* `speechiness` - Speechiness detects the presence of spoken words in a track. The more exclusively speech-like the recording (e.g. talk show, audio book, poetry), the closer to 1.0 the attribute value. Values above 0.66 describe tracks that are probably made entirely of spoken words. Values between 0.33 and 0.66 describe tracks that may contain both music and speech, either in sections or layered, including such cases as rap music. Values below 0.33 most likely represent music and other non-speech-like tracks.\n",
    "\n",
    "\n",
    "* `acousticness` - A confidence measure from 0.0 to 1.0 of whether the track is acoustic. 1.0 represents high confidence the track is acoustic.\n",
    "\n",
    "\n",
    "* `instrumentalness` - Predicts whether a track contains no vocals. \"Ooh\" and \"aah\" sounds are treated as instrumental in this context. Rap or spoken word tracks are clearly \"vocal\". The closer the instrumentalness value is to 1.0, the greater likelihood the track contains no vocal content. Values above 0.5 are intended to represent instrumental tracks, but confidence is higher as the value approaches 1.0.\n",
    "\n",
    "\n",
    "* `liveness` - Detects the presence of an audience in the recording. Higher liveness values represent an increased probability that the track was performed live. A value above 0.8 provides strong likelihood that the track is live.\n",
    "\n",
    "\n",
    "* `valence` - A measure from 0.0 to 1.0 describing the musical positiveness conveyed by a track. Tracks with high valence sound more positive (e.g. happy, cheerful, euphoric), while tracks with low valence sound more negative (e.g. sad, depressed, angry).\n",
    "\n",
    "\n",
    "* `tempo` - The overall estimated tempo of a track in beats per minute (BPM). In musical terminology, tempo is the speed or pace of a given piece and derives directly from the average beat duration.\n",
    "\n",
    "\n",
    "* `id` - The Spotify ID for the track.\n",
    "\n",
    "\n",
    "* `uri` - The Spotify URI for the track.\n",
    "\n",
    "\n",
    "* `duration_ms` - The duration of the track in milliseconds.\n",
    "\n",
    "\n",
    "* `time_signature` - An estimated time signature. The time signature (meter) is a notational convention to specify how many beats are in each bar (or measure). The time signature ranges from 3 to 7 indicating time signatures of \"3/4\", to \"7/4\".\n",
    "\n",
    "\n",
    "* `artist_name` - Song artist name.\n",
    "\n",
    "\n",
    "* `song_name` - The name of the track.\n",
    "\n",
    "\n",
    "* `album_name` - The name of the album.\n",
    "\n",
    "\n",
    "* `release_date` - The date the album was first released.\n",
    "\n",
    "\n",
    "* `add_date` - The date the track was added to the Saved track.\n",
    "\n",
    "\n",
    "* `popularity` - The popularity of the artist. The value will be between 0 and 100, with 100 being the most popular. The artist's popularity is calculated from the popularity of all the artist's tracks."
   ]
  },
  {
   "cell_type": "markdown",
   "id": "25a768ea",
   "metadata": {},
   "source": [
    "Changing type of the variables from `object` to `datetime` in `release_date` and `add_date` columns"
   ]
  },
  {
   "cell_type": "code",
   "execution_count": 12,
   "id": "4498704c",
   "metadata": {},
   "outputs": [],
   "source": [
    "df['release_date'] = pd.to_datetime(df['release_date'])"
   ]
  },
  {
   "cell_type": "code",
   "execution_count": 13,
   "id": "6edf5893",
   "metadata": {},
   "outputs": [],
   "source": [
    "df['add_date'] = pd.to_datetime(df['add_date'])\n",
    "df['add_date'] = df['add_date'].dt.date"
   ]
  },
  {
   "cell_type": "markdown",
   "id": "0050c851",
   "metadata": {},
   "source": [
    "Dataset for Tableau was saved in `.csv` format"
   ]
  },
  {
   "cell_type": "code",
   "execution_count": 14,
   "id": "4d023186",
   "metadata": {},
   "outputs": [],
   "source": [
    "df.to_csv('spotify_data.csv', index=False)"
   ]
  },
  {
   "cell_type": "markdown",
   "id": "419e106e",
   "metadata": {},
   "source": [
    "## EDA (exploratory data analysis)"
   ]
  },
  {
   "cell_type": "markdown",
   "id": "ec041978",
   "metadata": {},
   "source": [
    "The largest number of the Saved tracks (16 tracks) from Kendrick Lamar, who is, without doubt, my favorite artist.\n",
    "\n",
    "By the number of Saved tracks my top-5 artist looks like this:\n",
    "1. Kendrick Lamar\n",
    "2. BROCKHAMPTON\n",
    "3. Duckwrth\n",
    "4. Frank Ocean\n",
    "5. Royal Blood"
   ]
  },
  {
   "cell_type": "code",
   "execution_count": 15,
   "id": "6d22d39d",
   "metadata": {},
   "outputs": [
    {
     "data": {
      "text/html": [
       "<div>\n",
       "<style scoped>\n",
       "    .dataframe tbody tr th:only-of-type {\n",
       "        vertical-align: middle;\n",
       "    }\n",
       "\n",
       "    .dataframe tbody tr th {\n",
       "        vertical-align: top;\n",
       "    }\n",
       "\n",
       "    .dataframe thead th {\n",
       "        text-align: right;\n",
       "    }\n",
       "</style>\n",
       "<table border=\"1\" class=\"dataframe\">\n",
       "  <thead>\n",
       "    <tr style=\"text-align: right;\">\n",
       "      <th></th>\n",
       "      <th>artist_name</th>\n",
       "    </tr>\n",
       "  </thead>\n",
       "  <tbody>\n",
       "    <tr>\n",
       "      <th>Kendrick Lamar</th>\n",
       "      <td>16</td>\n",
       "    </tr>\n",
       "    <tr>\n",
       "      <th>BROCKHAMPTON</th>\n",
       "      <td>13</td>\n",
       "    </tr>\n",
       "    <tr>\n",
       "      <th>Duckwrth</th>\n",
       "      <td>11</td>\n",
       "    </tr>\n",
       "    <tr>\n",
       "      <th>Frank Ocean</th>\n",
       "      <td>10</td>\n",
       "    </tr>\n",
       "    <tr>\n",
       "      <th>Royal Blood</th>\n",
       "      <td>10</td>\n",
       "    </tr>\n",
       "  </tbody>\n",
       "</table>\n",
       "</div>"
      ],
      "text/plain": [
       "                artist_name\n",
       "Kendrick Lamar           16\n",
       "BROCKHAMPTON             13\n",
       "Duckwrth                 11\n",
       "Frank Ocean              10\n",
       "Royal Blood              10"
      ]
     },
     "execution_count": 15,
     "metadata": {},
     "output_type": "execute_result"
    }
   ],
   "source": [
    "df['artist_name'].value_counts().to_frame().head()"
   ]
  },
  {
   "cell_type": "markdown",
   "id": "309216f3",
   "metadata": {},
   "source": [
    "I'm not really a fun of acoustic tracks, tracks without words and tracks from Live concerts. All of this confirmed by the average values of `liveness`, `acousticness` and `instrumentalness` of my Saved tracks."
   ]
  },
  {
   "cell_type": "code",
   "execution_count": 16,
   "id": "8944af28",
   "metadata": {},
   "outputs": [
    {
     "data": {
      "text/plain": [
       "0.1873737349397591"
      ]
     },
     "execution_count": 16,
     "metadata": {},
     "output_type": "execute_result"
    }
   ],
   "source": [
    "df['liveness'].mean()"
   ]
  },
  {
   "cell_type": "code",
   "execution_count": 17,
   "id": "a2ea26ed",
   "metadata": {},
   "outputs": [
    {
     "data": {
      "text/plain": [
       "0.21345098144578323"
      ]
     },
     "execution_count": 17,
     "metadata": {},
     "output_type": "execute_result"
    }
   ],
   "source": [
    "df['acousticness'].mean()"
   ]
  },
  {
   "cell_type": "code",
   "execution_count": 18,
   "id": "fdc1378d",
   "metadata": {},
   "outputs": [
    {
     "data": {
      "text/plain": [
       "0.09874566906024093"
      ]
     },
     "execution_count": 18,
     "metadata": {},
     "output_type": "execute_result"
    }
   ],
   "source": [
    "df['instrumentalness'].mean()"
   ]
  },
  {
   "cell_type": "markdown",
   "id": "10287fcc",
   "metadata": {},
   "source": [
    "I enjoy dancing so it's not a surprise that on average my music is danceable and energetic, according to the data."
   ]
  },
  {
   "cell_type": "code",
   "execution_count": 19,
   "id": "8808fcec",
   "metadata": {},
   "outputs": [
    {
     "data": {
      "text/plain": [
       "0.648671807228916"
      ]
     },
     "execution_count": 19,
     "metadata": {},
     "output_type": "execute_result"
    }
   ],
   "source": [
    "df['danceability'].mean()"
   ]
  },
  {
   "cell_type": "code",
   "execution_count": 20,
   "id": "41a77dbd",
   "metadata": {},
   "outputs": [
    {
     "data": {
      "text/plain": [
       "0.6465706024096388"
      ]
     },
     "execution_count": 20,
     "metadata": {},
     "output_type": "execute_result"
    }
   ],
   "source": [
    "df['energy'].mean()"
   ]
  },
  {
   "cell_type": "markdown",
   "id": "11148df5",
   "metadata": {},
   "source": [
    "I guess we all listen music based on our mood, so the valence in my music preference almost perfectly - 0.5 - right between positive and sad."
   ]
  },
  {
   "cell_type": "code",
   "execution_count": 21,
   "id": "d3e2a28b",
   "metadata": {},
   "outputs": [
    {
     "data": {
      "text/plain": [
       "0.5020681927710844"
      ]
     },
     "execution_count": 21,
     "metadata": {},
     "output_type": "execute_result"
    }
   ],
   "source": [
    "df['valence'].mean()"
   ]
  },
  {
   "cell_type": "markdown",
   "id": "f39f7c8d",
   "metadata": {},
   "source": [
    "Most often I add songs on Monday, least often on Saturday. After the weeknd's music helps me get into the work vibe, on the weekend I try to use my phone and laptop seldom."
   ]
  },
  {
   "cell_type": "code",
   "execution_count": 22,
   "id": "1f1ab9d0",
   "metadata": {},
   "outputs": [
    {
     "data": {
      "text/plain": [
       "0    164\n",
       "1    143\n",
       "3     42\n",
       "2     32\n",
       "4     28\n",
       "6      5\n",
       "5      1\n",
       "Name: add_date, dtype: int64"
      ]
     },
     "execution_count": 22,
     "metadata": {},
     "output_type": "execute_result"
    }
   ],
   "source": [
    "df['add_date'].apply(lambda x : x.weekday()).value_counts()\n",
    "# 0 - Monday, 6 - Sunday"
   ]
  },
  {
   "cell_type": "markdown",
   "id": "eb9abae6",
   "metadata": {},
   "source": [
    "I know that I don't have unique taste in music, usually I listen to mainstream tracks (many of them from TikTok or films and series), that's why the majority of the tracks was released in the last 10 years."
   ]
  },
  {
   "cell_type": "code",
   "execution_count": 23,
   "id": "6c630088",
   "metadata": {},
   "outputs": [
    {
     "data": {
      "text/plain": [
       "2022    38\n",
       "2017    34\n",
       "2018    31\n",
       "2019    31\n",
       "2021    30\n",
       "2009    22\n",
       "2020    21\n",
       "2016    19\n",
       "2015    18\n",
       "2014    17\n",
       "Name: release_date, dtype: int64"
      ]
     },
     "execution_count": 23,
     "metadata": {},
     "output_type": "execute_result"
    }
   ],
   "source": [
    "df['release_date'].apply(lambda x : x.year).value_counts().head(10)"
   ]
  },
  {
   "cell_type": "markdown",
   "id": "5604238c",
   "metadata": {},
   "source": [
    "The 'oldest' song in my Saved tracks is There Arms of Mine by Otis Redding. This is beautiful song without age."
   ]
  },
  {
   "cell_type": "code",
   "execution_count": 24,
   "id": "38a5451a",
   "metadata": {},
   "outputs": [
    {
     "data": {
      "text/html": [
       "<div>\n",
       "<style scoped>\n",
       "    .dataframe tbody tr th:only-of-type {\n",
       "        vertical-align: middle;\n",
       "    }\n",
       "\n",
       "    .dataframe tbody tr th {\n",
       "        vertical-align: top;\n",
       "    }\n",
       "\n",
       "    .dataframe thead th {\n",
       "        text-align: right;\n",
       "    }\n",
       "</style>\n",
       "<table border=\"1\" class=\"dataframe\">\n",
       "  <thead>\n",
       "    <tr style=\"text-align: right;\">\n",
       "      <th></th>\n",
       "      <th>artist_name</th>\n",
       "      <th>song_name</th>\n",
       "      <th>release_date</th>\n",
       "    </tr>\n",
       "  </thead>\n",
       "  <tbody>\n",
       "    <tr>\n",
       "      <th>403</th>\n",
       "      <td>Otis Redding</td>\n",
       "      <td>These Arms of Mine</td>\n",
       "      <td>1964-01-01</td>\n",
       "    </tr>\n",
       "  </tbody>\n",
       "</table>\n",
       "</div>"
      ],
      "text/plain": [
       "      artist_name           song_name release_date\n",
       "403  Otis Redding  These Arms of Mine   1964-01-01"
      ]
     },
     "execution_count": 24,
     "metadata": {},
     "output_type": "execute_result"
    }
   ],
   "source": [
    "min_date_release = min(df['release_date'])\n",
    "df[df['release_date'] == min_date_release][['artist_name', 'song_name', 'release_date']]"
   ]
  },
  {
   "cell_type": "markdown",
   "id": "c9a2e4de",
   "metadata": {},
   "source": [
    "Hit songs are about 3 minutes long because of two major factors: the historic popularity of the 45 rpm record and the monetization methods applied by radio stations and record producers throughout the 20th century [Source](https://www.musicianwave.com/whats-the-average-length-of-a-song-year/)\n",
    "\n",
    "As i mentioned previously, my preferences is more mainstream, than unique. However, rap songs, which i usually listen, longer than 3 minutes. Therefore, the average duration of a track in my Saved tracks is almost 4 minutes."
   ]
  },
  {
   "cell_type": "code",
   "execution_count": 25,
   "id": "5fecdf8e",
   "metadata": {},
   "outputs": [
    {
     "data": {
      "text/plain": [
       "3.7483673493975904"
      ]
     },
     "execution_count": 25,
     "metadata": {},
     "output_type": "execute_result"
    }
   ],
   "source": [
    "# 1 min = 60000 ms\n",
    "df['duration_ms'].mean() / 60000"
   ]
  },
  {
   "cell_type": "markdown",
   "id": "dc1e21c7",
   "metadata": {},
   "source": [
    "For instance, mean duration of the Kendrick Lamar tracks in my Saved tracks more than 4 minutes."
   ]
  },
  {
   "cell_type": "code",
   "execution_count": 26,
   "id": "3dfb6f4d",
   "metadata": {},
   "outputs": [
    {
     "data": {
      "text/plain": [
       "4.555336458333334"
      ]
     },
     "execution_count": 26,
     "metadata": {},
     "output_type": "execute_result"
    }
   ],
   "source": [
    "df[df['artist_name'] == \"Kendrick Lamar\"]['duration_ms'].mean() / 60000"
   ]
  },
  {
   "cell_type": "markdown",
   "id": "cadd9b85",
   "metadata": {},
   "source": [
    "The tempo is the speed or pace of a given piece and derives directly from the average beat duration, so the higher the tempo the faster feel a song.\n",
    "\n",
    "Average tempo in my Saved songs is 118. To understand that it is i slice a dataframe with songs with this tempo. The resulting songs are rather danceable, and also my all-time favorites."
   ]
  },
  {
   "cell_type": "code",
   "execution_count": 27,
   "id": "fa3829ab",
   "metadata": {},
   "outputs": [
    {
     "data": {
      "text/plain": [
       "118.56232289156618"
      ]
     },
     "execution_count": 27,
     "metadata": {},
     "output_type": "execute_result"
    }
   ],
   "source": [
    "df['tempo'].mean()"
   ]
  },
  {
   "cell_type": "code",
   "execution_count": 28,
   "id": "c906cb9d",
   "metadata": {},
   "outputs": [
    {
     "data": {
      "text/html": [
       "<div>\n",
       "<style scoped>\n",
       "    .dataframe tbody tr th:only-of-type {\n",
       "        vertical-align: middle;\n",
       "    }\n",
       "\n",
       "    .dataframe tbody tr th {\n",
       "        vertical-align: top;\n",
       "    }\n",
       "\n",
       "    .dataframe thead th {\n",
       "        text-align: right;\n",
       "    }\n",
       "</style>\n",
       "<table border=\"1\" class=\"dataframe\">\n",
       "  <thead>\n",
       "    <tr style=\"text-align: right;\">\n",
       "      <th></th>\n",
       "      <th>artist_name</th>\n",
       "      <th>song_name</th>\n",
       "    </tr>\n",
       "  </thead>\n",
       "  <tbody>\n",
       "    <tr>\n",
       "      <th>48</th>\n",
       "      <td>Beyoncé</td>\n",
       "      <td>MOVE (feat. Grace Jones &amp; Tems)</td>\n",
       "    </tr>\n",
       "    <tr>\n",
       "      <th>92</th>\n",
       "      <td>NEIL FRANCES</td>\n",
       "      <td>Music Sounds Better with You</td>\n",
       "    </tr>\n",
       "    <tr>\n",
       "      <th>121</th>\n",
       "      <td>Lady Gaga</td>\n",
       "      <td>Just Dance</td>\n",
       "    </tr>\n",
       "    <tr>\n",
       "      <th>361</th>\n",
       "      <td>Muse</td>\n",
       "      <td>Time is Running Out</td>\n",
       "    </tr>\n",
       "    <tr>\n",
       "      <th>389</th>\n",
       "      <td>Depeche Mode</td>\n",
       "      <td>Strangelove</td>\n",
       "    </tr>\n",
       "  </tbody>\n",
       "</table>\n",
       "</div>"
      ],
      "text/plain": [
       "      artist_name                        song_name\n",
       "48        Beyoncé  MOVE (feat. Grace Jones & Tems)\n",
       "92   NEIL FRANCES     Music Sounds Better with You\n",
       "121     Lady Gaga                       Just Dance\n",
       "361          Muse              Time is Running Out\n",
       "389  Depeche Mode                      Strangelove"
      ]
     },
     "execution_count": 28,
     "metadata": {},
     "output_type": "execute_result"
    }
   ],
   "source": [
    "df[(df['tempo'] > 118) & (df['tempo'] < 119)][['artist_name', 'song_name']]"
   ]
  },
  {
   "cell_type": "markdown",
   "id": "4ceff2c1",
   "metadata": {},
   "source": [
    "As the conclusion, i want to summarize all of the facts about my music preferneces according to my Saved tracks on Spotify.\n",
    "1. on average my favorite music is danceable and energetic\n",
    "2. the largest number of the Saved tracks (16 tracks) from Kendrick Lamar\n",
    "3. most often I add songs on Monday, least often on Saturday\n",
    "4. i got about 50% sad songs and 50% positive songs\n",
    "5. the majority of the tracks in my Saved was released in the last 10 years\n",
    "6. average duration of a track in my Saved tracks is almost 4 minutes\n",
    "7. average tempo in my Saved songs is 118 as, for instance, Muse - Time is Running Out"
   ]
  },
  {
   "cell_type": "markdown",
   "id": "0f8d980a",
   "metadata": {},
   "source": [
    "## Tableau dataviz\n",
    "[Link to Tableau Public data viz](https://public.tableau.com/app/profile/polina.kopteva/viz/Musicpreferncesanalysis/Main?publish=yes)"
   ]
  }
 ],
 "metadata": {
  "kernelspec": {
   "display_name": "Python 3 (ipykernel)",
   "language": "python",
   "name": "python3"
  },
  "language_info": {
   "codemirror_mode": {
    "name": "ipython",
    "version": 3
   },
   "file_extension": ".py",
   "mimetype": "text/x-python",
   "name": "python",
   "nbconvert_exporter": "python",
   "pygments_lexer": "ipython3",
   "version": "3.9.7"
  }
 },
 "nbformat": 4,
 "nbformat_minor": 5
}
